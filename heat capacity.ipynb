{
 "cells": [
  {
   "cell_type": "markdown",
   "metadata": {},
   "source": [
    "Determining the temperature where water and acetone have the same heat capacity 75.6 J/(mol ⋅ K)). Determining the equation for the change in heat capacity as a function of temperature. Plot for the heat capacity as a function of temperature over the full range of temperatures where the heat capacity of acetone might be equal to the constant\n",
    "head capacity of water."
   ]
  },
  {
   "cell_type": "code",
   "execution_count": null,
   "metadata": {},
   "outputs": [],
   "source": [
    "import sympy\n",
    "import numpy as np\n",
    "import matplotlib.pyplot as plt\n",
    "\n",
    "Cp, T = sympy.symbols(\"Cp T\")\n",
    "\n",
    "f = 26.63 + 0.183*T - (46.86*10**(-6))*T**2 - 75.6\n",
    "\n",
    "print (sympy.solve(f,T))\n",
    "\n",
    "Cp = 26.63 + 0.183*T - (46.86*10**(-6))*T**2\n",
    "print(sympy.diff(Cp, T))\n",
    "\n",
    "Temp = np.linspace(288.0 , 3616.0, 1000)\n",
    "Cp = 26.63 + 0.183*Temp - (46.86*10**(-6))*Temp**2\n",
    "\n",
    "plt.plot(Temp,Cp)"
   ]
  }
 ],
 "metadata": {
  "interpreter": {
   "hash": "90614ef959682bb434258c8810de3151fb40a9a32ebea53f4a8f4f244874230a"
  },
  "kernelspec": {
   "display_name": "Python 3.8.11 ('chemeng_sp')",
   "language": "python",
   "name": "python3"
  },
  "language_info": {
   "name": "python",
   "version": "3.8.11"
  },
  "orig_nbformat": 4
 },
 "nbformat": 4,
 "nbformat_minor": 2
}
