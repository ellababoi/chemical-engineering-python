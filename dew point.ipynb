{
 "cells": [
  {
   "cell_type": "markdown",
   "metadata": {},
   "source": [
    "Determine the dew point for a 90% methane 10% ethane mixture.\n",
    "Determine the dew point for a 70% methane 30% ethane mixture."
   ]
  },
  {
   "cell_type": "code",
   "execution_count": 3,
   "metadata": {},
   "outputs": [
    {
     "name": "stdout",
     "output_type": "stream",
     "text": [
      "-160.3585930221187\n"
     ]
    }
   ],
   "source": [
    "import numpy\n",
    "import scipy.optimize\n",
    "import pylab\n",
    "\n",
    "def dew_point_temp(T):\n",
    "    Pm = 10**(6.61184-(389.93/(T+266.0)))\n",
    "    Pe = 10**(6.80266-(656.4/(T+256.0)))\n",
    "    return 750 - 0.9 * Pm - 0.1 * Pe\n",
    "\n",
    "T = -10\n",
    "\n",
    "T = scipy.optimize.broyden1(dew_point_temp, T, maxiter = 100, f_tol = 1e-6)\n",
    "print(T)"
   ]
  },
  {
   "cell_type": "code",
   "execution_count": 4,
   "metadata": {},
   "outputs": [
    {
     "name": "stdout",
     "output_type": "stream",
     "text": [
      "-157.14575396053948\n"
     ]
    }
   ],
   "source": [
    "def dew_point_temp(T):\n",
    "    Pm = 10**(6.61184-(389.93/(T+266.0)))\n",
    "    Pe = 10**(6.80266-(656.4/(T+256.0)))\n",
    "    return 750 - (0.7 * Pm) - (0.3 * Pe)\n",
    "\n",
    "T = -10\n",
    "\n",
    "T = scipy.optimize.broyden1(dew_point_temp, T, maxiter = 100, f_tol = 1e-6)\n",
    "print(T)"
   ]
  }
 ],
 "metadata": {
  "interpreter": {
   "hash": "90614ef959682bb434258c8810de3151fb40a9a32ebea53f4a8f4f244874230a"
  },
  "kernelspec": {
   "display_name": "Python 3.8.11 ('chemeng_sp')",
   "language": "python",
   "name": "python3"
  },
  "language_info": {
   "codemirror_mode": {
    "name": "ipython",
    "version": 3
   },
   "file_extension": ".py",
   "mimetype": "text/x-python",
   "name": "python",
   "nbconvert_exporter": "python",
   "pygments_lexer": "ipython3",
   "version": "3.8.11"
  },
  "orig_nbformat": 4
 },
 "nbformat": 4,
 "nbformat_minor": 2
}
