{
 "cells": [
  {
   "cell_type": "markdown",
   "metadata": {},
   "source": [
    "Write the mass balence for the 3 stage counter current cascade and determine the concentration of contaminant in g/m3."
   ]
  },
  {
   "cell_type": "code",
   "execution_count": 1,
   "metadata": {},
   "outputs": [
    {
     "name": "stdout",
     "output_type": "stream",
     "text": [
      "[[-30.  20.   0.]\n",
      " [ 10. -30.  20.]\n",
      " [  0.  10. -30.]]\n",
      "[9.33333333 4.         1.33333333]\n"
     ]
    }
   ],
   "source": [
    "import numpy as np\n",
    "import numpy.linalg as nl\n",
    "\n",
    "A = np.array([[-30.0,20.0,0.0],[10.0,-30.0,20.0],[0.0,10.0,-30.0]])\n",
    "\n",
    "print(A)\n",
    "\n",
    "f = np.array([-200.0, 0.0, 0.0])\n",
    "\n",
    "print(nl.solve(A,f))"
   ]
  }
 ],
 "metadata": {
  "interpreter": {
   "hash": "90614ef959682bb434258c8810de3151fb40a9a32ebea53f4a8f4f244874230a"
  },
  "kernelspec": {
   "display_name": "Python 3.8.11 ('chemeng_sp')",
   "language": "python",
   "name": "python3"
  },
  "language_info": {
   "codemirror_mode": {
    "name": "ipython",
    "version": 3
   },
   "file_extension": ".py",
   "mimetype": "text/x-python",
   "name": "python",
   "nbconvert_exporter": "python",
   "pygments_lexer": "ipython3",
   "version": "3.8.11"
  },
  "orig_nbformat": 4
 },
 "nbformat": 4,
 "nbformat_minor": 2
}
