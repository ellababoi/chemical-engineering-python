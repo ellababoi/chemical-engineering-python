{
 "cells": [
  {
   "cell_type": "markdown",
   "metadata": {},
   "source": [
    "Determine the amount of energy necessary to change the temperature of nitrous gas and carbon solid from 20C to 100C."
   ]
  },
  {
   "cell_type": "code",
   "execution_count": 1,
   "metadata": {},
   "outputs": [
    {
     "name": "stdout",
     "output_type": "stream",
     "text": [
      "enthalpy for nitrogen gas is:  (2.3323759451733332, 0.0)\n",
      "enthalpy for ncarbon solid is:  (28.560559940617836, 3.1414379009220283e-07)\n",
      "enthalpy for nitrogen gas calculated using the trapezoid rule: 2.3323803878144\n"
     ]
    }
   ],
   "source": [
    "import math\n",
    "import numpy\n",
    "from scipy.integrate import quadrature as quad\n",
    "\n",
    "a = 20.0\n",
    "b = 100.0\n",
    "\n",
    "def enthalpy_nitrogen_gas(T):\n",
    "    return 0.0290 + (0.2199 * 10**(-5)) * T + (0.5723 * 10**(-8)) * T**2 - (2.871 * 10**(-12)) * T**3\n",
    "\n",
    "def enthalpy_carbon_solid(T):\n",
    "    return 0.1118 + (1.095 * 10**(-5)) * T + 489.1/(T**2)\n",
    "\n",
    "H_N2gas = quad(enthalpy_nitrogen_gas,a,b)\n",
    "H_C = quad(enthalpy_carbon_solid,a,b)\n",
    "\n",
    "print(\"enthalpy for nitrogen gas is: \", H_N2gas)\n",
    "print(\"enthalpy for ncarbon solid is: \", H_C)\n",
    "\n",
    "# Trapazoid Rule\n",
    "n = 10\n",
    "h = (b-a)/n\n",
    "x = numpy.linspace(a,b,num=n+1)\n",
    "area = 0\n",
    "for i in range(n):\n",
    "    area = area + h*(enthalpy_nitrogen_gas(x[i]) + enthalpy_nitrogen_gas(x[i+1]))/2.0\n",
    "print(\"enthalpy for nitrogen gas calculated using the trapezoid rule:\", area)\n"
   ]
  }
 ],
 "metadata": {
  "interpreter": {
   "hash": "90614ef959682bb434258c8810de3151fb40a9a32ebea53f4a8f4f244874230a"
  },
  "kernelspec": {
   "display_name": "Python 3.8.11 ('chemeng_sp')",
   "language": "python",
   "name": "python3"
  },
  "language_info": {
   "codemirror_mode": {
    "name": "ipython",
    "version": 3
   },
   "file_extension": ".py",
   "mimetype": "text/x-python",
   "name": "python",
   "nbconvert_exporter": "python",
   "pygments_lexer": "ipython3",
   "version": "3.8.11"
  },
  "orig_nbformat": 4
 },
 "nbformat": 4,
 "nbformat_minor": 2
}
