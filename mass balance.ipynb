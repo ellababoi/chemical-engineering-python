{
 "cells": [
  {
   "cell_type": "markdown",
   "metadata": {},
   "source": [
    "The mass balance of PCBs passing 5 tanks.\n",
    "The mass balance of PCBs passing 5 tanks conanting a bypass tank 2->5.\n",
    "Layout: 1,2 -> 3 -> 4 -> 5"
   ]
  },
  {
   "cell_type": "code",
   "execution_count": 2,
   "metadata": {},
   "outputs": [
    {
     "name": "stdout",
     "output_type": "stream",
     "text": [
      "[ 2.5        21.31578947 10.125      23.62162162 38.09302326]\n",
      "[ 2.5        13.96551724  8.37931034 22.11183597 38.09302326]\n"
     ]
    }
   ],
   "source": [
    "import numpy as np\n",
    "import numpy.linalg as nl\n",
    "\n",
    "A = np.zeros((5,5),dtype=np.float32)\n",
    "\n",
    "A[0,0]=72\n",
    "A[1,1]=38\n",
    "A[2,2]=160\n",
    "A[3,3]=185\n",
    "A[4,4]=215\n",
    "A[2,0]=-72\n",
    "A[2,1]=-38\n",
    "A[3,2]=-160\n",
    "A[4,3]=-185\n",
    "\n",
    "#print(A)\n",
    "\n",
    "f = np.array([180.0,810.0,630.0,2750.0,3820.0])\n",
    "\n",
    "print(nl.solve(A,f))\n",
    "\n",
    "B = np.zeros((5,5),dtype=np.float32)\n",
    "\n",
    "B[0,0]=72\n",
    "B[1,1]=58\n",
    "B[2,2]=160\n",
    "B[3,3]=185\n",
    "B[4,4]=215\n",
    "B[2,0]=-72\n",
    "B[2,1]=-38\n",
    "B[3,2]=-160\n",
    "B[4,3]=-185\n",
    "B[4,1]=-20\n",
    "\n",
    "#print(B)\n",
    "\n",
    "g = np.array([180.0,810.0,630.0,2750.0,3820.0])\n",
    "\n",
    "print(nl.solve(B,g))"
   ]
  }
 ],
 "metadata": {
  "interpreter": {
   "hash": "90614ef959682bb434258c8810de3151fb40a9a32ebea53f4a8f4f244874230a"
  },
  "kernelspec": {
   "display_name": "Python 3.8.11 ('chemeng_sp')",
   "language": "python",
   "name": "python3"
  },
  "language_info": {
   "codemirror_mode": {
    "name": "ipython",
    "version": 3
   },
   "file_extension": ".py",
   "mimetype": "text/x-python",
   "name": "python",
   "nbconvert_exporter": "python",
   "pygments_lexer": "ipython3",
   "version": "3.8.11"
  },
  "orig_nbformat": 4
 },
 "nbformat": 4,
 "nbformat_minor": 2
}
