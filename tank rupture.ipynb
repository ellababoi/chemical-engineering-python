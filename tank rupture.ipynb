{
 "cells": [
  {
   "cell_type": "markdown",
   "metadata": {},
   "source": [
    "Determine the amount of propane found in a tank at the moment of rupture. Rupture is due to excessive heat."
   ]
  },
  {
   "cell_type": "code",
   "execution_count": 1,
   "metadata": {},
   "outputs": [
    {
     "name": "stdout",
     "output_type": "stream",
     "text": [
      "348.8388585779371\n",
      "15.382747146711294\n"
     ]
    },
    {
     "data": {
      "text/plain": [
       "(-2.0, 2.0)"
      ]
     },
     "execution_count": 1,
     "metadata": {},
     "output_type": "execute_result"
    },
    {
     "data": {
      "image/png": "[encoded data removed]",
      "text/plain": [
       "<Figure size 432x288 with 1 Axes>"
      ]
     },
     "metadata": {
      "needs_background": "light"
     },
     "output_type": "display_data"
    }
   ],
   "source": [
    "import numpy\n",
    "import scipy.optimize\n",
    "import pylab\n",
    "\n",
    "def no_moles(n):\n",
    "    T = 384\n",
    "    P = 4891.3\n",
    "    Tc = 369.9\n",
    "    Pc = 4254.6\n",
    "    R = 0.008314\n",
    "    a = (24/64)*(((R**2)*(Tc**2))/Pc)\n",
    "    b = (1/8)*((R*Tc)/Pc)\n",
    "    return (P+(a/((0.15/n)**2)))*((0.15/n)-b)-R*T\n",
    "\n",
    "n = 1000\n",
    "\n",
    "n = scipy.optimize.broyden1(no_moles, n, maxiter = 100, f_tol = 1e-6)\n",
    "print(n)\n",
    "\n",
    "mass = (n*44.097)/1000         #   kg\n",
    "print(mass)\n",
    "\n",
    "n = numpy.linspace(1, 500, 500)\n",
    "pylab.plot(n,no_moles(n),'.',n,numpy.zeros(n.shape),'--')\n",
    "pylab.ylim([-2,2])"
   ]
  }
 ],
 "metadata": {
  "interpreter": {
   "hash": "90614ef959682bb434258c8810de3151fb40a9a32ebea53f4a8f4f244874230a"
  },
  "kernelspec": {
   "display_name": "Python 3.8.11 ('chemeng_sp')",
   "language": "python",
   "name": "python3"
  },
  "language_info": {
   "codemirror_mode": {
    "name": "ipython",
    "version": 3
   },
   "file_extension": ".py",
   "mimetype": "text/x-python",
   "name": "python",
   "nbconvert_exporter": "python",
   "pygments_lexer": "ipython3",
   "version": "3.8.11"
  },
  "orig_nbformat": 4
 },
 "nbformat": 4,
 "nbformat_minor": 2
}
