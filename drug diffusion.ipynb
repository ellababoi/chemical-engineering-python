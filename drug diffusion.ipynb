{
 "cells": [
  {
   "cell_type": "markdown",
   "metadata": {},
   "source": [
    "Model the drug diffusion of a drug delivered topically to the cornea via eye drops."
   ]
  },
  {
   "cell_type": "code",
   "execution_count": 1,
   "metadata": {},
   "outputs": [
    {
     "data": {
      "text/plain": [
       "Text(0, 0.5, 'y')"
      ]
     },
     "execution_count": 1,
     "metadata": {},
     "output_type": "execute_result"
    },
    {
     "data": {
      "image/png": "[encoded data removed]",
      "text/plain": [
       "<Figure size 432x288 with 1 Axes>"
      ]
     },
     "metadata": {
      "needs_background": "light"
     },
     "output_type": "display_data"
    }
   ],
   "source": [
    "import numpy\n",
    "from numpy.linalg import solve\n",
    "import pylab\n",
    "\n",
    "N = 20\n",
    "x = numpy.linspace(0.0,2.0,N+1)\n",
    "h = x[1]-x[0]\n",
    "k = 2.45\n",
    "# Allocate space\n",
    "A=numpy.zeros((N+1,N+1))\n",
    "b = numpy.zeros(N+1)\n",
    "\n",
    "# Boundary condition at x=0\n",
    "A[0,0] = 1.0\n",
    "b[0] = 1.0\n",
    "\n",
    "for i in range(1,N):\n",
    "    A[i,i-1] = 1.0\n",
    "    A[i,i] = -2.0 - k*(h**2)\n",
    "    A[i,i+1] = 1.0\n",
    "    b[i] = 0\n",
    "\n",
    "# Boundary condition at x = 2.0\n",
    "A[N,N] = 1.0\n",
    "b[N] = 0.0\n",
    "\n",
    "y = solve(A,b)\n",
    "pylab.plot(x,y)\n",
    "\n",
    "pylab.xlabel('x')\n",
    "pylab.ylabel('y')"
   ]
  }
 ],
 "metadata": {
  "interpreter": {
   "hash": "90614ef959682bb434258c8810de3151fb40a9a32ebea53f4a8f4f244874230a"
  },
  "kernelspec": {
   "display_name": "Python 3.8.11 ('chemeng_sp')",
   "language": "python",
   "name": "python3"
  },
  "language_info": {
   "codemirror_mode": {
    "name": "ipython",
    "version": 3
   },
   "file_extension": ".py",
   "mimetype": "text/x-python",
   "name": "python",
   "nbconvert_exporter": "python",
   "pygments_lexer": "ipython3",
   "version": "3.8.11"
  },
  "orig_nbformat": 4
 },
 "nbformat": 4,
 "nbformat_minor": 2
}
