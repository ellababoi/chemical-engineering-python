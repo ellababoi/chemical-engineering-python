{
 "cells": [
  {
   "cell_type": "markdown",
   "metadata": {},
   "source": [
    "Linear, quadratic and cubic regression analysis on Cp for solid HB using given temp(K) and Cp(cal/(mol ⋅ K)) data. "
   ]
  },
  {
   "cell_type": "code",
   "execution_count": 1,
   "metadata": {},
   "outputs": [
    {
     "name": "stdout",
     "output_type": "stream",
     "text": [
      "<class 'numpy.ndarray'>\n",
      "[8.13857992 0.02161088]\n",
      "<class 'numpy.ndarray'>\n",
      "[ 1.44381764e+01 -6.43514282e-02  2.87721215e-04]\n",
      "<class 'numpy.ndarray'>\n",
      "[-4.71039797e+00  3.27355211e-01 -2.35597551e-03  5.88711425e-06]\n"
     ]
    },
    {
     "data": {
      "image/png": "[encoded data removed]",
      "text/plain": [
       "<Figure size 432x288 with 6 Axes>"
      ]
     },
     "metadata": {
      "needs_background": "light"
     },
     "output_type": "display_data"
    }
   ],
   "source": [
    "import numpy as np\n",
    "from scipy.optimize import curve_fit                   \n",
    "import matplotlib.pyplot as plt\n",
    "import math\n",
    "\n",
    "x = np.array([118.99,120.76,122.71,125.48,127.31,130.06,132.41,135.89,139.02,140.25,145.61,153.45,158.03,162.72,167.67,172.86,177.52,182.09])\n",
    "y = np.array([10.79,10.8,10.86,10.93,10.99,10.96,10.98,11.03,11.08,11.1,11.19,11.25,11.4,11.61,11.69,11.91,12.07,12.32])\n",
    "\n",
    "def linear_Cp(x, a, b):\n",
    "    n = x.size\n",
    "    Cp = np.zeros(n)\n",
    "    for i in range(n):\n",
    "        Cp[i] = a + x[i] * b\n",
    "    return Cp\n",
    "\n",
    "params = [10, 10]\n",
    "\n",
    "fit_linear,_ = curve_fit(linear_Cp, x, y, p0=params)\n",
    "\n",
    "print(type(fit_linear))\n",
    "print(fit_linear)\n",
    "\n",
    "yfit_linear = linear_Cp(x, fit_linear[0], fit_linear[1])\n",
    "\n",
    "\n",
    "def quadratic_Cp(x, a, b, c):\n",
    "    n = x.size\n",
    "    Cp = np.zeros(n)\n",
    "    for i in range(n):\n",
    "        Cp[i] = a + x[i] * b + c * x[i]**2\n",
    "    return Cp\n",
    "\n",
    "params = [10, 10, 10]\n",
    "\n",
    "fit_quadratic,_ = curve_fit(quadratic_Cp, x, y, p0=params)\n",
    "\n",
    "print(type(fit_quadratic))\n",
    "print(fit_quadratic)\n",
    "\n",
    "yfit_quadratic = quadratic_Cp(x, fit_quadratic[0], fit_quadratic[1], fit_quadratic[2])\n",
    "\n",
    "\n",
    "def cubic_Cp(x, a, b, c, d):\n",
    "    n = x.size\n",
    "    Cp = np.zeros(n)\n",
    "    for i in range(n):\n",
    "        Cp[i] = a + x[i] * b + c * x[i]**2 + d * x[i]**3\n",
    "    return Cp\n",
    "\n",
    "params = [10, 10, 10, 10]\n",
    "\n",
    "fit_cubic,_ = curve_fit(cubic_Cp, x, y, p0=params)\n",
    "\n",
    "print(type(fit_cubic))\n",
    "print(fit_cubic)\n",
    "\n",
    "yfit_cubic = cubic_Cp(x, fit_cubic[0], fit_cubic[1], fit_cubic[2], fit_cubic[3])\n",
    "\n",
    "\n",
    "fig, axs = plt.subplots(2, 3)\n",
    "axs[0, 0].plot(x,y,'o')\n",
    "axs[1, 0].plot(x,y,'o',x,yfit_linear)\n",
    "axs[1, 0].set_title(\"linear fit\")\n",
    "axs[1, 0].sharex(axs[0, 0])\n",
    "axs[0, 1].plot(x,y,'o')\n",
    "axs[1, 1].plot(x,y,'o',x,yfit_quadratic)\n",
    "axs[1, 1].set_title(\"quadratic fit\")\n",
    "axs[0, 2].plot(x,y,'o')\n",
    "axs[1, 2].plot(x,y,'o',x,yfit_cubic)\n",
    "axs[1, 2].set_title(\"cubic fit\")\n",
    "fig.tight_layout()"
   ]
  }
 ],
 "metadata": {
  "interpreter": {
   "hash": "90614ef959682bb434258c8810de3151fb40a9a32ebea53f4a8f4f244874230a"
  },
  "kernelspec": {
   "display_name": "Python 3.8.11 ('chemeng_sp')",
   "language": "python",
   "name": "python3"
  },
  "language_info": {
   "codemirror_mode": {
    "name": "ipython",
    "version": 3
   },
   "file_extension": ".py",
   "mimetype": "text/x-python",
   "name": "python",
   "nbconvert_exporter": "python",
   "pygments_lexer": "ipython3",
   "version": "3.8.11"
  },
  "orig_nbformat": 4
 },
 "nbformat": 4,
 "nbformat_minor": 2
}
