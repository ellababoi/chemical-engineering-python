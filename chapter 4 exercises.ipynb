{
 "cells": [
  {
   "cell_type": "markdown",
   "metadata": {},
   "source": [
    "1. You have been hired by NASA to develop a short Python script that\n",
    "when executed, asks the user to input their weight on earth and then\n",
    "select the planet that they are currently occupying.The program should\n",
    "then calculate and print out to the screen the individual’s weight on their\n",
    "current planet. Use a relative weight table such as that reproduced below\n",
    "to simplify the calculation.Three notes: (1) the input() function in Python\n",
    "returns a string, which you will need to convert into an integer using the\n",
    "int() function, (2) it is easiest to ask the user to input a number for the\n",
    "planet selection (i.e., enter 1 for Mercury, 2 for Venus, etc.), and (3) you\n",
    "should check the planet selection using an “if” statement to ensure that it\n",
    "is valid.\n",
    "Mercury 0.38\n",
    "Venus 0.91\n",
    "Earth 1.0\n",
    "Mars 0.38\n",
    "Jupiter 2.34\n",
    "Saturn 1.06\n",
    "Uranus 0.92\n",
    "Neptune 1.19"
   ]
  },
  {
   "cell_type": "code",
   "execution_count": 7,
   "metadata": {},
   "outputs": [],
   "source": [
    "import numpy as np\n",
    "\n",
    "def weight_planets():\n",
    "    print(\"write your mass:  \")\n",
    "    mass = input()\n",
    "    print(\"insert number corresponding to your planet of interest: \")\n",
    "    print(\"Mercury : 1 /n Venus : 2 /n Earth : 3 /n Mars : 4 /n Jupiter : 5 /n Saturn : 6 /n Uranus : 7 /n Neptune 8\")\n",
    "    planet = input()\n",
    "    mass = float(mass)\n",
    "    planet = int(planet)\n",
    "    planet_weight = np.array([0.38 , 0.91, 1.0, 0.38, 2.34, 1.06, 0.92, 1.19])\n",
    "    weight = 0.0\n",
    "    if planet <= 0 or planet <= 8:\n",
    "        weight = mass * planet_weight[(planet-1)]\n",
    "        print(\"your weight on the surface of the chosen planet is: \",weight)\n",
    "    else:\n",
    "        print(\"the number introduced isn't associated with any of planets written, please insert correctly upon restarting the program\")\n",
    "    # return weight         # reactivate if needed for calculations outside the function\n"
   ]
  },
  {
   "cell_type": "code",
   "execution_count": 8,
   "metadata": {},
   "outputs": [
    {
     "name": "stdout",
     "output_type": "stream",
     "text": [
      "write your mass:  \n"
     ]
    },
    {
     "ename": "KeyboardInterrupt",
     "evalue": "Interrupted by user",
     "output_type": "error",
     "traceback": [
      "\u001b[1;31m---------------------------------------------------------------------------\u001b[0m",
      "\u001b[1;31mKeyboardInterrupt\u001b[0m                         Traceback (most recent call last)",
      "\u001b[1;32m<ipython-input-8-696de251c4de>\u001b[0m in \u001b[0;36m<module>\u001b[1;34m\u001b[0m\n\u001b[1;32m----> 1\u001b[1;33m \u001b[0mweight_planets\u001b[0m\u001b[1;33m(\u001b[0m\u001b[1;33m)\u001b[0m\u001b[1;33m\u001b[0m\u001b[1;33m\u001b[0m\u001b[0m\n\u001b[0m",
      "\u001b[1;32m<ipython-input-7-2e284225218d>\u001b[0m in \u001b[0;36mweight_planets\u001b[1;34m()\u001b[0m\n\u001b[0;32m      3\u001b[0m \u001b[1;32mdef\u001b[0m \u001b[0mweight_planets\u001b[0m\u001b[1;33m(\u001b[0m\u001b[1;33m)\u001b[0m\u001b[1;33m:\u001b[0m\u001b[1;33m\u001b[0m\u001b[1;33m\u001b[0m\u001b[0m\n\u001b[0;32m      4\u001b[0m     \u001b[0mprint\u001b[0m\u001b[1;33m(\u001b[0m\u001b[1;34m\"write your mass:  \"\u001b[0m\u001b[1;33m)\u001b[0m\u001b[1;33m\u001b[0m\u001b[1;33m\u001b[0m\u001b[0m\n\u001b[1;32m----> 5\u001b[1;33m     \u001b[0mmass\u001b[0m \u001b[1;33m=\u001b[0m \u001b[0minput\u001b[0m\u001b[1;33m(\u001b[0m\u001b[1;33m)\u001b[0m\u001b[1;33m\u001b[0m\u001b[1;33m\u001b[0m\u001b[0m\n\u001b[0m\u001b[0;32m      6\u001b[0m     \u001b[0mprint\u001b[0m\u001b[1;33m(\u001b[0m\u001b[1;34m\"insert number corresponding to your planet of interest: \"\u001b[0m\u001b[1;33m)\u001b[0m\u001b[1;33m\u001b[0m\u001b[1;33m\u001b[0m\u001b[0m\n\u001b[0;32m      7\u001b[0m     \u001b[0mprint\u001b[0m\u001b[1;33m(\u001b[0m\u001b[1;34m\"Mercury : 1 /n Venus : 2 /n Earth : 3 /n Mars : 4 /n Jupiter : 5 /n Saturn : 6 /n Uranus : 7 /n Neptune 8\"\u001b[0m\u001b[1;33m)\u001b[0m\u001b[1;33m\u001b[0m\u001b[1;33m\u001b[0m\u001b[0m\n",
      "\u001b[1;32m~\\AppData\\Roaming\\Python\\Python39\\site-packages\\ipykernel\\kernelbase.py\u001b[0m in \u001b[0;36mraw_input\u001b[1;34m(self, prompt)\u001b[0m\n\u001b[0;32m    846\u001b[0m                 \u001b[1;34m\"raw_input was called, but this frontend does not support input requests.\"\u001b[0m\u001b[1;33m\u001b[0m\u001b[1;33m\u001b[0m\u001b[0m\n\u001b[0;32m    847\u001b[0m             )\n\u001b[1;32m--> 848\u001b[1;33m         return self._input_request(str(prompt),\n\u001b[0m\u001b[0;32m    849\u001b[0m             \u001b[0mself\u001b[0m\u001b[1;33m.\u001b[0m\u001b[0m_parent_ident\u001b[0m\u001b[1;33m,\u001b[0m\u001b[1;33m\u001b[0m\u001b[1;33m\u001b[0m\u001b[0m\n\u001b[0;32m    850\u001b[0m             \u001b[0mself\u001b[0m\u001b[1;33m.\u001b[0m\u001b[0m_parent_header\u001b[0m\u001b[1;33m,\u001b[0m\u001b[1;33m\u001b[0m\u001b[1;33m\u001b[0m\u001b[0m\n",
      "\u001b[1;32m~\\AppData\\Roaming\\Python\\Python39\\site-packages\\ipykernel\\kernelbase.py\u001b[0m in \u001b[0;36m_input_request\u001b[1;34m(self, prompt, ident, parent, password)\u001b[0m\n\u001b[0;32m    890\u001b[0m             \u001b[1;32mexcept\u001b[0m \u001b[0mKeyboardInterrupt\u001b[0m\u001b[1;33m:\u001b[0m\u001b[1;33m\u001b[0m\u001b[1;33m\u001b[0m\u001b[0m\n\u001b[0;32m    891\u001b[0m                 \u001b[1;31m# re-raise KeyboardInterrupt, to truncate traceback\u001b[0m\u001b[1;33m\u001b[0m\u001b[1;33m\u001b[0m\u001b[1;33m\u001b[0m\u001b[0m\n\u001b[1;32m--> 892\u001b[1;33m                 \u001b[1;32mraise\u001b[0m \u001b[0mKeyboardInterrupt\u001b[0m\u001b[1;33m(\u001b[0m\u001b[1;34m\"Interrupted by user\"\u001b[0m\u001b[1;33m)\u001b[0m \u001b[1;32mfrom\u001b[0m \u001b[1;32mNone\u001b[0m\u001b[1;33m\u001b[0m\u001b[1;33m\u001b[0m\u001b[0m\n\u001b[0m\u001b[0;32m    893\u001b[0m             \u001b[1;32mexcept\u001b[0m \u001b[0mException\u001b[0m \u001b[1;32mas\u001b[0m \u001b[0me\u001b[0m\u001b[1;33m:\u001b[0m\u001b[1;33m\u001b[0m\u001b[1;33m\u001b[0m\u001b[0m\n\u001b[0;32m    894\u001b[0m                 \u001b[0mself\u001b[0m\u001b[1;33m.\u001b[0m\u001b[0mlog\u001b[0m\u001b[1;33m.\u001b[0m\u001b[0mwarning\u001b[0m\u001b[1;33m(\u001b[0m\u001b[1;34m\"Invalid Message:\"\u001b[0m\u001b[1;33m,\u001b[0m \u001b[0mexc_info\u001b[0m\u001b[1;33m=\u001b[0m\u001b[1;32mTrue\u001b[0m\u001b[1;33m)\u001b[0m\u001b[1;33m\u001b[0m\u001b[1;33m\u001b[0m\u001b[0m\n",
      "\u001b[1;31mKeyboardInterrupt\u001b[0m: Interrupted by user"
     ]
    }
   ],
   "source": [
    "weight_planets()            #  RUNS IN .PY FORMAT"
   ]
  },
  {
   "cell_type": "markdown",
   "metadata": {},
   "source": [
    "2. You have been hired as a consulting engineering to answer a question\n",
    "from the Engineering Department atMosure University.The department\n",
    "would like to determine the probability of two students in the same class\n",
    "having the same birth date. We are only considering the day of the year\n",
    "(e.g., February 3) and not the year of birth.Warning, you probably will not\n",
    "believe the result.\n",
    "Because we are engineers and not statisticians, you are being hired to\n",
    "develop a computer program that is capable of generating students with\n",
    "random birth dates for a specified class size. The program will simulate\n",
    "a specified number of classes and determine the fraction of classes that\n",
    "contain at least two students with the same birthday.\n",
    "The program should have the following attributes:\n",
    "a) The user can set a variable “NumTrials” equal to the number of virtual\n",
    "classes they wish to simulate. I initially set this variable to 1000.\n",
    "b) The user can set a variable “ClassSize” equal to the size of the class\n",
    "(e.g., 40, 60, 80, and 200).\n",
    "c) You should write a function that receives as input a numpy vector of\n",
    "length ClassSize that contains the birthday for every member of the\n",
    "class. The function should then determine if any two students have the\n",
    "same birthday (and return 1 or True in this case) or not (and return 0\n",
    "or False in this case).\n",
    "d) The program should run multiple trials. For each trial, you should\n",
    "construct a numpy vector of length ClassSize containing randomly\n",
    "assigned birthdays. I recommend using a number between 0\n",
    "and 364 to represent the birthday, and I recommend using the\n",
    "numpy.random.randint() function to construct the vector of random\n",
    "birthdays.\n",
    "Your final report to the department as a consultant should consist\n",
    "of a discussion of your findings and, most importantly, a plot of the\n",
    "probability of a class containing two students with the same birthday\n",
    "versus class size for classes between 20 and 200 students. Note that you\n",
    "should not simulate every possible class size between 20 and 200, just\n",
    "pick 5 or 6 class sizes over that range. The report should be in the form\n",
    "of a memo to the department from you. Hint: in a class of 40 students,\n",
    "there is a 89% probability of two students having the same birthday – see,\n",
    "I told you that you would not believe the result.\n",
    "One final warning – you will need to calculate the probability, that is,\n",
    "the fraction of trials where two students had the same birthday divided\n",
    "by the total number of trials. Calculating this fraction is easy, I used\n",
    "“successes/NumTrials”. However, both of these variables were integers\n",
    "(e.g., 891/1000), and Python 2.x reports the result as an integer (i.e., 0\n",
    "or 1) instead of a fraction (i.e., 0.891). To ensure a floating point result, I\n",
    "used “(1.0*successes)/NumTrials”."
   ]
  },
  {
   "cell_type": "code",
   "execution_count": null,
   "metadata": {},
   "outputs": [],
   "source": []
  },
  {
   "cell_type": "markdown",
   "metadata": {},
   "source": [
    "3.The “Monty Hall Problem” poses following challenge: imagine you are on\n",
    "a game show and are faced with three doors. Behind one of the doors is\n",
    "a great prize, and behind the other two doors is something of little value.\n",
    "The game show host asks you to pick one of the doors, which you do. On\n",
    "the basis of your choice, the game show host open one of the other two\n",
    "doors and reveals something of little value.At this point, two doors remain\n",
    "closed, one of them concealing the prize.The game show host offers to let\n",
    "you switch your choice of doors. You fear that the host is trying to trick\n",
    "you. Should you switch.\n",
    "Determine the answer to this question by writing a Python algorithmthat\n",
    "can simulate a large number of virtual games (e.g., n = 10,000 games).\n",
    "Create a numpy array that holds a random integer: 1, 2, or 3, corresponding\n",
    "to the winning door for each game. An easy way to build this array\n",
    "is the function: numpy.random.randint(1,4,n). Without loss of\n",
    "generality, it is possible to have the contestant select the same door every\n",
    "game for all n games. Next, allow for the selection of whether to switch\n",
    "the door selected or not. On the basis of the door selection and the\n",
    "switch selection (“yes” or “no”), the algorithm should be able to iterate\n",
    "through the n games and determine the fraction won. Does the fraction\n",
    "won depend on whether you switch or not?"
   ]
  },
  {
   "cell_type": "code",
   "execution_count": null,
   "metadata": {},
   "outputs": [],
   "source": []
  }
 ],
 "metadata": {
  "interpreter": {
   "hash": "28191df3cb12fb48c43451745225bf3c0515f6c2566260fe79073b8a105dee73"
  },
  "kernelspec": {
   "display_name": "Python 3.9.6 64-bit ('tensorflow_env': conda)",
   "language": "python",
   "name": "python3"
  },
  "language_info": {
   "codemirror_mode": {
    "name": "ipython",
    "version": 3
   },
   "file_extension": ".py",
   "mimetype": "text/x-python",
   "name": "python",
   "nbconvert_exporter": "python",
   "pygments_lexer": "ipython3",
   "version": "3.9.6"
  },
  "orig_nbformat": 4
 },
 "nbformat": 4,
 "nbformat_minor": 2
}
